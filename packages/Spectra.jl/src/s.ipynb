{
 "cells": [
  {
   "cell_type": "code",
   "execution_count": 20,
   "metadata": {},
   "outputs": [],
   "source": [
    "using Spectra\n",
    "using DimensionfulAngles: °ᵃ as °, radᵃ as rad \n",
    "using Unitful: m, Hz, s"
   ]
  },
  {
   "cell_type": "code",
   "execution_count": 6,
   "metadata": {
    "scrolled": false
   },
   "outputs": [
    {
     "data": {
      "text/plain": [
       "21-element Vector{Unitful.Quantity{Float64, 𝐀 𝐓⁻¹, Unitful.FreeUnits{(rad, s⁻¹), 𝐀 𝐓⁻¹, nothing}}}:\n",
       " 0.0 rad s⁻¹\n",
       " 0.1 rad s⁻¹\n",
       " 0.2 rad s⁻¹\n",
       " 0.3 rad s⁻¹\n",
       " 0.4 rad s⁻¹\n",
       " 0.5 rad s⁻¹\n",
       " 0.6 rad s⁻¹\n",
       " 0.7 rad s⁻¹\n",
       " 0.8 rad s⁻¹\n",
       " 0.9 rad s⁻¹\n",
       " 1.0 rad s⁻¹\n",
       " 1.1 rad s⁻¹\n",
       " 1.2 rad s⁻¹\n",
       " 1.3 rad s⁻¹\n",
       " 1.4 rad s⁻¹\n",
       " 1.5 rad s⁻¹\n",
       " 1.6 rad s⁻¹\n",
       " 1.7 rad s⁻¹\n",
       " 1.8 rad s⁻¹\n",
       " 1.9 rad s⁻¹\n",
       " 2.0 rad s⁻¹"
      ]
     },
     "execution_count": 6,
     "metadata": {},
     "output_type": "execute_result"
    }
   ],
   "source": [
    "ω = (0:0.1:2) *rad/s"
   ]
  },
  {
   "cell_type": "code",
   "execution_count": 21,
   "metadata": {},
   "outputs": [
    {
     "data": {
      "text/plain": [
       "OmniSpectrum of quantity in [m²] with axis:\n",
       "    angular_frequency [rad s⁻¹], [0.0, 0.1, 0.2, 0.3, 0.4, 0.5, 0.6, 0.7, 0.8, 0.9, 1.0, 1.1, 1.2, 1.3, 1.4, 1.5, 1.6, 1.7, 1.8, 1.9, 2.0]\n",
       "And data, a 21-element Vector{Quantity{Float64}}:\n",
       " -0.24491417009642727 m² s rad⁻¹\n",
       " -0.10264828475197003 m² s rad⁻¹\n",
       "    0.866834530750314 m² s rad⁻¹\n",
       "   0.7914595763128215 m² s rad⁻¹\n",
       "  -0.5079372327868227 m² s rad⁻¹\n",
       "  0.33039699302196474 m² s rad⁻¹\n",
       "   1.1187556741871525 m² s rad⁻¹\n",
       "   0.8772086567331419 m² s rad⁻¹\n",
       "  -0.7075445714159325 m² s rad⁻¹\n",
       "  -1.1568239720016646 m² s rad⁻¹\n",
       " -0.11451693381023728 m² s rad⁻¹\n",
       "   0.7763103520125443 m² s rad⁻¹\n",
       "   0.5242202336661332 m² s rad⁻¹\n",
       "   0.5577608664496502 m² s rad⁻¹\n",
       "  -1.1077124343872355 m² s rad⁻¹\n",
       "  -0.6305553576263431 m² s rad⁻¹\n",
       "    1.199959426929102 m² s rad⁻¹\n",
       "  0.46076564719776275 m² s rad⁻¹\n",
       "  -0.5816163255751312 m² s rad⁻¹\n",
       "  -0.9475999568822431 m² s rad⁻¹\n",
       "   2.1789242556888047 m² s rad⁻¹"
      ]
     },
     "execution_count": 21,
     "metadata": {},
     "output_type": "execute_result"
    }
   ],
   "source": [
    "S = OmniSpectrum(randn(21)*m^2/(rad/s), ω)"
   ]
  },
  {
   "cell_type": "code",
   "execution_count": 25,
   "metadata": {},
   "outputs": [
    {
     "data": {
      "text/plain": [
       "1x2x2 Array{OmniSpectrum, 3}:\n",
       "[:, :, 1] =\n",
       " [-0.244914 m² s rad⁻¹, -0.102648 m² s rad⁻¹, 0.866835 m² s rad⁻¹, 0.79146 m² s rad⁻¹, -0.507937 m² s rad⁻¹, 0.330397 m² s rad⁻¹, 1.11876 m² s rad⁻¹, 0.877209 m² s rad⁻¹, -0.707545 m² s rad⁻¹, -1.15682 m² s rad⁻¹  …  0.77631 m² s rad⁻¹, 0.52422 m² s rad⁻¹, 0.557761 m² s rad⁻¹, -1.10771 m² s rad⁻¹, -0.630555 m² s rad⁻¹, 1.19996 m² s rad⁻¹, 0.460766 m² s rad⁻¹, -0.581616 m² s rad⁻¹, -0.9476 m² s rad⁻¹, 2.17892 m² s rad⁻¹]  …  [-0.244914 m² s rad⁻¹, -0.102648 m² s rad⁻¹, 0.866835 m² s rad⁻¹, 0.79146 m² s rad⁻¹, -0.507937 m² s rad⁻¹, 0.330397 m² s rad⁻¹, 1.11876 m² s rad⁻¹, 0.877209 m² s rad⁻¹, -0.707545 m² s rad⁻¹, -1.15682 m² s rad⁻¹  …  0.77631 m² s rad⁻¹, 0.52422 m² s rad⁻¹, 0.557761 m² s rad⁻¹, -1.10771 m² s rad⁻¹, -0.630555 m² s rad⁻¹, 1.19996 m² s rad⁻¹, 0.460766 m² s rad⁻¹, -0.581616 m² s rad⁻¹, -0.9476 m² s rad⁻¹, 2.17892 m² s rad⁻¹]\n",
       "\n",
       "[:, :, 2] =\n",
       " [-0.244914 m² s rad⁻¹, -0.102648 m² s rad⁻¹, 0.866835 m² s rad⁻¹, 0.79146 m² s rad⁻¹, -0.507937 m² s rad⁻¹, 0.330397 m² s rad⁻¹, 1.11876 m² s rad⁻¹, 0.877209 m² s rad⁻¹, -0.707545 m² s rad⁻¹, -1.15682 m² s rad⁻¹  …  0.77631 m² s rad⁻¹, 0.52422 m² s rad⁻¹, 0.557761 m² s rad⁻¹, -1.10771 m² s rad⁻¹, -0.630555 m² s rad⁻¹, 1.19996 m² s rad⁻¹, 0.460766 m² s rad⁻¹, -0.581616 m² s rad⁻¹, -0.9476 m² s rad⁻¹, 2.17892 m² s rad⁻¹]  …  [-0.244914 m² s rad⁻¹, -0.102648 m² s rad⁻¹, 0.866835 m² s rad⁻¹, 0.79146 m² s rad⁻¹, -0.507937 m² s rad⁻¹, 0.330397 m² s rad⁻¹, 1.11876 m² s rad⁻¹, 0.877209 m² s rad⁻¹, -0.707545 m² s rad⁻¹, -1.15682 m² s rad⁻¹  …  0.77631 m² s rad⁻¹, 0.52422 m² s rad⁻¹, 0.557761 m² s rad⁻¹, -1.10771 m² s rad⁻¹, -0.630555 m² s rad⁻¹, 1.19996 m² s rad⁻¹, 0.460766 m² s rad⁻¹, -0.581616 m² s rad⁻¹, -0.9476 m² s rad⁻¹, 2.17892 m² s rad⁻¹]"
      ]
     },
     "execution_count": 25,
     "metadata": {},
     "output_type": "execute_result"
    }
   ],
   "source": [
    "[[S] [S] ;;; [S] [S]]"
   ]
  },
  {
   "cell_type": "code",
   "execution_count": 18,
   "metadata": {},
   "outputs": [
    {
     "data": {
      "text/plain": [
       "1-dimensional AxisArray{Float64,1,...} with axes:\n",
       "    :row, Base.OneTo(10)\n",
       "And data, a 10-element Vector{Float64}:\n",
       "  0.4466476439525943\n",
       " -0.03411681437792816\n",
       " -0.3006020165986282\n",
       " -0.05476087442552072\n",
       " -0.8387390210766574\n",
       " -0.14584399772490264\n",
       " -1.3525456823541608\n",
       "  0.9116431097616522\n",
       "  1.0015601656193742\n",
       "  1.033022278187147"
      ]
     },
     "execution_count": 18,
     "metadata": {},
     "output_type": "execute_result"
    }
   ],
   "source": []
  },
  {
   "cell_type": "code",
   "execution_count": 26,
   "metadata": {},
   "outputs": [
    {
     "data": {
      "text/plain": [
       "(Unitful.Quantity{Float64, 𝐋² 𝐓 𝐀⁻¹, Unitful.FreeUnits{(m², rad⁻¹, s), 𝐋² 𝐓 𝐀⁻¹, nothing}}[-0.24491417009642727 m² s rad⁻¹, -0.10264828475197003 m² s rad⁻¹, 0.866834530750314 m² s rad⁻¹, 0.7914595763128215 m² s rad⁻¹, -0.5079372327868227 m² s rad⁻¹, 0.33039699302196474 m² s rad⁻¹, 1.1187556741871525 m² s rad⁻¹, 0.8772086567331419 m² s rad⁻¹, -0.7075445714159325 m² s rad⁻¹, -1.1568239720016646 m² s rad⁻¹  …  0.7763103520125443 m² s rad⁻¹, 0.5242202336661332 m² s rad⁻¹, 0.5577608664496502 m² s rad⁻¹, -1.1077124343872355 m² s rad⁻¹, -0.6305553576263431 m² s rad⁻¹, 1.199959426929102 m² s rad⁻¹, 0.46076564719776275 m² s rad⁻¹, -0.5816163255751312 m² s rad⁻¹, -0.9475999568822431 m² s rad⁻¹, 2.1789242556888047 m² s rad⁻¹], Unitful.Quantity{Float64, 𝐋² 𝐓 𝐀⁻¹, Unitful.FreeUnits{(m², rad⁻¹, s), 𝐋² 𝐓 𝐀⁻¹, nothing}}[-0.24491417009642727 m² s rad⁻¹, -0.10264828475197003 m² s rad⁻¹, 0.866834530750314 m² s rad⁻¹, 0.7914595763128215 m² s rad⁻¹, -0.5079372327868227 m² s rad⁻¹, 0.33039699302196474 m² s rad⁻¹, 1.1187556741871525 m² s rad⁻¹, 0.8772086567331419 m² s rad⁻¹, -0.7075445714159325 m² s rad⁻¹, -1.1568239720016646 m² s rad⁻¹  …  0.7763103520125443 m² s rad⁻¹, 0.5242202336661332 m² s rad⁻¹, 0.5577608664496502 m² s rad⁻¹, -1.1077124343872355 m² s rad⁻¹, -0.6305553576263431 m² s rad⁻¹, 1.199959426929102 m² s rad⁻¹, 0.46076564719776275 m² s rad⁻¹, -0.5816163255751312 m² s rad⁻¹, -0.9475999568822431 m² s rad⁻¹, 2.1789242556888047 m² s rad⁻¹])"
      ]
     },
     "execution_count": 26,
     "metadata": {},
     "output_type": "execute_result"
    }
   ],
   "source": [
    "(S, S)"
   ]
  },
  {
   "cell_type": "code",
   "execution_count": 27,
   "metadata": {},
   "outputs": [
    {
     "data": {
      "text/plain": [
       "2-element Vector{OmniSpectrum}:\n",
       " [-0.24491417009642727 m² s rad⁻¹, -0.10264828475197003 m² s rad⁻¹, 0.866834530750314 m² s rad⁻¹, 0.7914595763128215 m² s rad⁻¹, -0.5079372327868227 m² s rad⁻¹, 0.33039699302196474 m² s rad⁻¹, 1.1187556741871525 m² s rad⁻¹, 0.8772086567331419 m² s rad⁻¹, -0.7075445714159325 m² s rad⁻¹, -1.1568239720016646 m² s rad⁻¹  …  0.7763103520125443 m² s rad⁻¹, 0.5242202336661332 m² s rad⁻¹, 0.5577608664496502 m² s rad⁻¹, -1.1077124343872355 m² s rad⁻¹, -0.6305553576263431 m² s rad⁻¹, 1.199959426929102 m² s rad⁻¹, 0.46076564719776275 m² s rad⁻¹, -0.5816163255751312 m² s rad⁻¹, -0.9475999568822431 m² s rad⁻¹, 2.1789242556888047 m² s rad⁻¹]\n",
       " [-0.24491417009642727 m² s rad⁻¹, -0.10264828475197003 m² s rad⁻¹, 0.866834530750314 m² s rad⁻¹, 0.7914595763128215 m² s rad⁻¹, -0.5079372327868227 m² s rad⁻¹, 0.33039699302196474 m² s rad⁻¹, 1.1187556741871525 m² s rad⁻¹, 0.8772086567331419 m² s rad⁻¹, -0.7075445714159325 m² s rad⁻¹, -1.1568239720016646 m² s rad⁻¹  …  0.7763103520125443 m² s rad⁻¹, 0.5242202336661332 m² s rad⁻¹, 0.5577608664496502 m² s rad⁻¹, -1.1077124343872355 m² s rad⁻¹, -0.6305553576263431 m² s rad⁻¹, 1.199959426929102 m² s rad⁻¹, 0.46076564719776275 m² s rad⁻¹, -0.5816163255751312 m² s rad⁻¹, -0.9475999568822431 m² s rad⁻¹, 2.1789242556888047 m² s rad⁻¹]"
      ]
     },
     "execution_count": 27,
     "metadata": {},
     "output_type": "execute_result"
    }
   ],
   "source": [
    "[S, S]"
   ]
  },
  {
   "cell_type": "code",
   "execution_count": null,
   "metadata": {},
   "outputs": [],
   "source": []
  }
 ],
 "metadata": {
  "kernelspec": {
   "display_name": "Julia 1.9.0",
   "language": "julia",
   "name": "julia-1.9"
  },
  "language_info": {
   "file_extension": ".jl",
   "mimetype": "application/julia",
   "name": "julia",
   "version": "1.9.0"
  }
 },
 "nbformat": 4,
 "nbformat_minor": 2
}
