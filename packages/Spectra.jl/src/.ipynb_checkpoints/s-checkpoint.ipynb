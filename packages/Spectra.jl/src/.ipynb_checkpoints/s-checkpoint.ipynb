{
 "cells": [
  {
   "cell_type": "code",
   "execution_count": 15,
   "metadata": {},
   "outputs": [],
   "source": [
    "using Spectra\n",
    "using DimensionfulAngles: °ᵃ as °, radᵃ as rad \n",
    "using Unitful: m, Hz, s"
   ]
  },
  {
   "cell_type": "code",
   "execution_count": 6,
   "metadata": {
    "scrolled": false
   },
   "outputs": [
    {
     "data": {
      "text/plain": [
       "21-element Vector{Unitful.Quantity{Float64, 𝐀 𝐓⁻¹, Unitful.FreeUnits{(rad, s⁻¹), 𝐀 𝐓⁻¹, nothing}}}:\n",
       " 0.0 rad s⁻¹\n",
       " 0.1 rad s⁻¹\n",
       " 0.2 rad s⁻¹\n",
       " 0.3 rad s⁻¹\n",
       " 0.4 rad s⁻¹\n",
       " 0.5 rad s⁻¹\n",
       " 0.6 rad s⁻¹\n",
       " 0.7 rad s⁻¹\n",
       " 0.8 rad s⁻¹\n",
       " 0.9 rad s⁻¹\n",
       " 1.0 rad s⁻¹\n",
       " 1.1 rad s⁻¹\n",
       " 1.2 rad s⁻¹\n",
       " 1.3 rad s⁻¹\n",
       " 1.4 rad s⁻¹\n",
       " 1.5 rad s⁻¹\n",
       " 1.6 rad s⁻¹\n",
       " 1.7 rad s⁻¹\n",
       " 1.8 rad s⁻¹\n",
       " 1.9 rad s⁻¹\n",
       " 2.0 rad s⁻¹"
      ]
     },
     "execution_count": 6,
     "metadata": {},
     "output_type": "execute_result"
    }
   ],
   "source": [
    "ω = (0:0.1:2) *rad/s"
   ]
  },
  {
   "cell_type": "code",
   "execution_count": 16,
   "metadata": {},
   "outputs": [
    {
     "data": {
      "text/plain": [
       "OmniSpectrum of quantity in [m²] with axis:\n",
       "    angular_frequency [rad s⁻¹], [0.0, 0.1, 0.2, 0.3, 0.4, 0.5, 0.6, 0.7, 0.8, 0.9, 1.0, 1.1, 1.2, 1.3, 1.4, 1.5, 1.6, 1.7, 1.8, 1.9, 2.0]\n",
       "And data, a 21-element Vector{Quantity{Float64}}:\n",
       "   -1.7274155205010768 m² s rad⁻¹\n",
       "   -0.5016595068977963 m² s rad⁻¹\n",
       "   -0.4145059397034848 m² s rad⁻¹\n",
       " -0.017780095286737675 m² s rad⁻¹\n",
       "  -0.03611666555455723 m² s rad⁻¹\n",
       "   0.29188871776114195 m² s rad⁻¹\n",
       "    -0.892209600358048 m² s rad⁻¹\n",
       "   -2.7828521140086733 m² s rad⁻¹\n",
       "   -0.4604558462201492 m² s rad⁻¹\n",
       "   -0.7681259394952874 m² s rad⁻¹\n",
       "     1.914998490868672 m² s rad⁻¹\n",
       "   -0.7050121772873722 m² s rad⁻¹\n",
       "    2.0925100957228784 m² s rad⁻¹\n",
       "   -1.2922140718373336 m² s rad⁻¹\n",
       "  -0.03474262461607486 m² s rad⁻¹\n",
       "    -1.284320312487927 m² s rad⁻¹\n",
       "    0.7431806102888572 m² s rad⁻¹\n",
       "    0.7555526415824655 m² s rad⁻¹\n",
       "   -0.3539911888201339 m² s rad⁻¹\n",
       "   -3.1308850285563876 m² s rad⁻¹\n",
       "  -0.32278471348370746 m² s rad⁻¹"
      ]
     },
     "execution_count": 16,
     "metadata": {},
     "output_type": "execute_result"
    }
   ],
   "source": [
    "S = OmniSpectrum(randn(21)*m^2/(rad/s), ω)"
   ]
  },
  {
   "cell_type": "code",
   "execution_count": 17,
   "metadata": {},
   "outputs": [],
   "source": [
    "using AxisArrays"
   ]
  },
  {
   "cell_type": "code",
   "execution_count": 18,
   "metadata": {},
   "outputs": [
    {
     "data": {
      "text/plain": [
       "1-dimensional AxisArray{Float64,1,...} with axes:\n",
       "    :row, Base.OneTo(10)\n",
       "And data, a 10-element Vector{Float64}:\n",
       "  0.4466476439525943\n",
       " -0.03411681437792816\n",
       " -0.3006020165986282\n",
       " -0.05476087442552072\n",
       " -0.8387390210766574\n",
       " -0.14584399772490264\n",
       " -1.3525456823541608\n",
       "  0.9116431097616522\n",
       "  1.0015601656193742\n",
       "  1.033022278187147"
      ]
     },
     "execution_count": 18,
     "metadata": {},
     "output_type": "execute_result"
    }
   ],
   "source": [
    "AxisArray(randn(10))"
   ]
  },
  {
   "cell_type": "code",
   "execution_count": 19,
   "metadata": {},
   "outputs": [
    {
     "data": {
      "text/plain": [
       "2-dimensional AxisArray{Float64,2,...} with axes:\n",
       "    :time, [0.0, 1.2]\n",
       "    :distance, [0.1, 0.5, 0.8]\n",
       "And data, a 2×3 Matrix{Float64}:\n",
       " 0.460048  0.250954  0.7036\n",
       " 0.777801  0.757339  0.715427"
      ]
     },
     "execution_count": 19,
     "metadata": {},
     "output_type": "execute_result"
    }
   ],
   "source": [
    "AxisArray(rand(2,3), time=[0, 1.2], distance=[0.1, 0.5, 0.8])"
   ]
  },
  {
   "cell_type": "code",
   "execution_count": null,
   "metadata": {},
   "outputs": [],
   "source": []
  }
 ],
 "metadata": {
  "kernelspec": {
   "display_name": "Julia 1.9.0",
   "language": "julia",
   "name": "julia-1.9"
  },
  "language_info": {
   "file_extension": ".jl",
   "mimetype": "application/julia",
   "name": "julia",
   "version": "1.9.0"
  }
 },
 "nbformat": 4,
 "nbformat_minor": 2
}
