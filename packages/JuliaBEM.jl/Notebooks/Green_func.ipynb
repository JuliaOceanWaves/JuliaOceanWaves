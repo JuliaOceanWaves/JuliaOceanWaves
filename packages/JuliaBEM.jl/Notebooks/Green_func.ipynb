{
 "cells": [
  {
   "attachments": {},
   "cell_type": "markdown",
   "metadata": {},
   "source": [
    "#### Wu at al's method (translation from their fortran method to Julia)\n",
    "\n",
    "\n"
   ]
  },
  {
   "attachments": {},
   "cell_type": "markdown",
   "metadata": {},
   "source": []
  },
  {
   "attachments": {},
   "cell_type": "markdown",
   "metadata": {},
   "source": [
    "## taking the collocation points for a sphere from capytaine\n",
    "For quad collocation point categorized as flow field point $(x,y,z)$ and source $(\\xi,\\eta,\\zeta)$. \n",
    "The inputs for the HavelockGF as defined above are\n",
    " $ r = \\sqrt((x-\\xi)^2+(y-\\eta)^2+(z-\\zeta)^2); $ and \n",
    "$d = \\sqrt((x-xi)^2+(y-eta)^2+(z+zeta)^2).$\n"
   ]
  },
  {
   "cell_type": "code",
   "execution_count": 1,
   "metadata": {},
   "outputs": [
    {
     "data": {
      "text/plain": [
       "50-element Vector{Vector{Float64}}:\n",
       " [0.18633899, 0.06054521, -0.96737099]\n",
       " [0.41864589, 0.13602629, -0.87267798]\n",
       " [0.63699204, 0.20697126, -0.69256115]\n",
       " [0.79772872, 0.25919777, -0.44465163]\n",
       " [0.8825587, 0.28676069, -0.15321651]\n",
       " [0.11516383, 0.15850942, -0.96737099]\n",
       " [0.25873739, 0.35612145, -0.87267798]\n",
       " [0.39368272, 0.54185778, -0.69256115]\n",
       " [0.49302348, 0.67858863, -0.44465163]\n",
       " [0.54545128, 0.75074929, -0.15321651]\n",
       " ⋮\n",
       " [0.25873739, -0.35612145, -0.87267798]\n",
       " [0.39368272, -0.54185778, -0.69256115]\n",
       " [0.49302348, -0.67858863, -0.44465163]\n",
       " [0.54545128, -0.75074929, -0.15321651]\n",
       " [0.18633899, -0.06054521, -0.96737099]\n",
       " [0.41864589, -0.13602629, -0.87267798]\n",
       " [0.63699204, -0.20697126, -0.69256115]\n",
       " [0.79772872, -0.25919777, -0.44465163]\n",
       " [0.8825587, -0.28676069, -0.15321651]"
      ]
     },
     "metadata": {},
     "output_type": "display_data"
    }
   ],
   "source": [
    "quad_points = [[ 1.8633899e-01,  6.0545210e-02, -9.6737099e-01],\n",
    " [ 4.1864589e-01, 1.3602629e-01, -8.7267798e-01],\n",
    " [ 6.3699204e-01,  2.0697126e-01, -6.9256115e-01],\n",
    " [ 7.9772872e-01,  2.5919777e-01, -4.4465163e-01],\n",
    " [ 8.8255870e-01,  2.8676069e-01, -1.5321651e-01],\n",
    " [ 1.1516383e-01,  1.5850942e-01, -9.6737099e-01],\n",
    " [ 2.5873739e-01 , 3.5612145e-01, -8.7267798e-01],\n",
    " [ 3.9368272e-01 , 5.4185778e-01, -6.9256115e-01],\n",
    " [ 4.9302348e-01, 6.7858863e-01, -4.4465163e-01],\n",
    " [ 5.4545128e-01,  7.5074929e-01, -1.5321651e-01],\n",
    " [ 9.2518588e-18 , 1.9592842e-01 ,-9.6737099e-01],\n",
    " [ 3.9490744e-17 , 6.6977304e-01, -6.9256115e-01],\n",
    " [ 2.5740148e-17 , 8.3878165e-01, -4.4465163e-01],\n",
    " [ 2.8616125e-17 , 4.4019032e-01, -8.7267798e-01],\n",
    " [ 3.6828466e-17 , 9.2797714e-01, -1.5321651e-01],\n",
    " [-1.1516383e-01 , 1.5850942e-01, -9.6737099e-01],\n",
    " [-2.5873739e-01 , 3.5612145e-01, -8.7267798e-01],\n",
    " [-3.9368272e-01 , 5.4185778e-01, -6.9256115e-01],\n",
    " [-4.9302348e-01 , 6.7858863e-01, -4.4465163e-01],\n",
    " [-5.4545128e-01 , 7.5074929e-01, -1.5321651e-01],\n",
    " [-1.8633899e-01 , 6.0545210e-02, -9.6737099e-01],\n",
    " [-4.1864589e-01 , 1.3602629e-01, -8.7267798e-01],\n",
    " [-6.3699204e-01 , 2.0697126e-01, -6.9256115e-01],\n",
    " [-7.9772872e-01 , 2.5919777e-01, -4.4465163e-01],\n",
    " [-8.8255870e-01 , 2.8676069e-01, -1.5321651e-01],\n",
    " [-1.8633899e-01 ,-6.0545210e-02, -9.6737099e-01],\n",
    " [-4.1864589e-01 ,-1.3602629e-01, -8.7267798e-01],\n",
    " [-6.3699204e-01 ,-2.0697126e-01, -6.9256115e-01],\n",
    " [-7.9772872e-01 ,-2.5919777e-01, -4.4465163e-01],\n",
    " [-8.8255870e-01 ,-2.8676069e-01, -1.5321651e-01],\n",
    " [-1.1516383e-01 ,-1.5850942e-01, -9.6737099e-01],\n",
    " [-2.5873739e-01 ,-3.5612145e-01 ,-8.7267798e-01],\n",
    " [-3.9368272e-01 ,-5.4185778e-01, -6.9256115e-01],\n",
    " [-4.9302348e-01 ,-6.7858863e-01, -4.4465163e-01],\n",
    " [-5.4545128e-01 ,-7.5074929e-01, -1.5321651e-01],\n",
    " [-9.2518588e-18 ,-1.9592842e-01, -9.6737099e-01],\n",
    " [-2.8616125e-17 ,-4.4019032e-01, -8.7267798e-01],\n",
    " [-3.9490744e-17 ,-6.6977304e-01, -6.9256115e-01],\n",
    " [-2.5740148e-17 ,-8.3878165e-01, -4.4465163e-01],\n",
    " [-3.6828466e-17 ,-9.2797714e-01, -1.5321651e-01],\n",
    " [ 1.1516383e-01 ,-1.5850942e-01, -9.6737099e-01],\n",
    " [ 2.5873739e-01 ,-3.5612145e-01, -8.7267798e-01],\n",
    " [ 3.9368272e-01 ,-5.4185778e-01, -6.9256115e-01],\n",
    " [ 4.9302348e-01 ,-6.7858863e-01, -4.4465163e-01],\n",
    " [ 5.4545128e-01 ,-7.5074929e-01, -1.5321651e-01],\n",
    " [ 1.8633899e-01 ,-6.0545210e-02, -9.6737099e-01],\n",
    " [ 4.1864589e-01 ,-1.3602629e-01, -8.7267798e-01],\n",
    " [ 6.3699204e-01 ,-2.0697126e-01, -6.9256115e-01],\n",
    " [ 7.9772872e-01 ,-2.5919777e-01, -4.4465163e-01],\n",
    " [ 8.8255870e-01 ,-2.8676069e-01, -1.5321651e-01]]"
   ]
  },
  {
   "cell_type": "code",
   "execution_count": 2,
   "metadata": {},
   "outputs": [],
   "source": [
    "\n",
    "using Plots\n",
    "include(\"WaveModule.jl\")\n",
    "using .WaveGreensFunction: evaluate_greens_func\n",
    "\n",
    "function Gxy(quad_points::Vector{Vector{Float64}}, green_func::Function) \n",
    "    num_vectors = length(quad_points)\n",
    "    result_matrix = zeros(Complex{Float64}, num_vectors, num_vectors)\n",
    "   \n",
    "    for i in 1:num_vectors\n",
    "        for j in 1:num_vectors\n",
    "            flowfield = quad_points[i]\n",
    "            source = quad_points[j]\n",
    "            result = green_func(flowfield, source)\n",
    "            result_matrix[i, j] = result\n",
    "        end \n",
    "    end\n",
    "    return result_matrix\n",
    "end\n",
    "\n",
    "G = Gxy(quad_points,evaluate_greens_func);\n",
    "\n",
    "\n"
   ]
  },
  {
   "attachments": {},
   "cell_type": "markdown",
   "metadata": {},
   "source": [
    "This has to be integrated for each mesh face to get the S(greens function integrated ) and K matrix (derrivative of greens function). \n",
    "\n",
    "$S_{ij} = \\int_{}^{} \\int_{\\Gamma_j}^{} G(x_i,\\xi)dS(\\xi)$\n",
    "\n",
    "We need some geometry tools and integration. But visualizing the G shows some infs and such"
   ]
  },
  {
   "cell_type": "code",
   "execution_count": 4,
   "metadata": {},
   "outputs": [],
   "source": [
    "heatmap(real(G),size=(1400, 1400),aspect_ratio=:equal, color=:viridis, frame=:box)\n",
    "savefig(\"G_only.pdf\")"
   ]
  },
  {
   "attachments": {},
   "cell_type": "markdown",
   "metadata": {},
   "source": [
    "Thoughts: \n",
    "1) The code by Wu et al actually gives the G_x, G_y and G_z (part of) which means no need for differentiation of $f:R^3 \\to C $ which is a relief because it seems Zygote does not yet support this type of function. $f:C \\to C $ and $f:R^n \\to R^n $ are available\n",
    "\n",
    "We have to map this G to spline as discussed in the write up. \n",
    "\n",
    "This allows us to get the S function and derivative S_x, S_y, S_z easily as well. For K, we need to calculate the normal derivative of G_x .\n",
    "\n",
    "Once we have this we can get $ \\frac{ d\\phi}{dx} $. This then needs to chained to get by control points.\\frac{ \\phi}{control_points} module like 'pygeo' can chain it back to the control points or design variables. The difference with \n",
    "\n"
   ]
  },
  {
   "attachments": {},
   "cell_type": "markdown",
   "metadata": {},
   "source": [
    "### To Do\n",
    "1) Define the geometry \n",
    "2) Get the collocation point \n",
    "3) Integrate on each patches\n",
    "4) Set up and S and K matrix required for the linear system\n",
    "\n",
    "\n",
    "The geometry deformation tools already exists for spline based geoemtry.We just need to get the representation and the ability to integrate on the patches. \n",
    "\n",
    "- Get a NURBS/bezier curve geometry in Julia\n",
    "- Extract all bezier patches\n",
    "- Get the collocation point/ absicca point for each bezierr patches\n",
    "- Use the point for greens' Gxy \n",
    "- integrate for S and K matrix\n",
    "- Solve linear system for potentials\n",
    "\n",
    "Other calculations after that such as pressurre through bernoulli and added_mass etc are not imporrtant ans they will be minimized if we minimize the potential or viceversa."
   ]
  },
  {
   "attachments": {},
   "cell_type": "markdown",
   "metadata": {},
   "source": [
    "### Some more thoughts on adjoint variable method and the isogeometric method\n",
    "\n",
    "- There is a way to get the $\\frac{d \\phi}{dx}$ where x is the collocation point (mid point of the bezier patches. I still don't understand how that will result in pathces having more continous potential than finding one in panels)\n",
    " - In shape optimization, the design variables are usually control points that deform the mesh without having to remesh it. \n",
    " - A jacobian is defined to transform from one co-ordinate the xyz to uv (parametric Nurbs)\n",
    " - In the parametric nurbs domain , only control points move so does that mean only values for those control points are available. Airfoils has \"taper\" and \"twist\" like global deformations. \n",
    " \n",
    "\n"
   ]
  },
  {
   "attachments": {},
   "cell_type": "markdown",
   "metadata": {},
   "source": [
    "## Integration on the elements\n",
    "The integration is carried out for each element described by the bezier ccurves using Gaussian quadrature. A simple example of hemisphere would be nice to perform to compare the results theoretically and with capytaine. \n",
    "\n",
    "\"Consider a single NURBS function consisting of the control points, weights and knot vector. This function is decomposed into 𝐸 non- overlapping elements, which are rational Bézier patches of order 𝑝. Each patch is created by mapping the NURBS into rational Bézier functions used for the geometry representation\".\n",
    "\n",
    "Intrro:https://hovey.github.io/docs/Hovey_2022_Bezier_B-Spline_SAND2022-7702_C.pdf"
   ]
  },
  {
   "attachments": {},
   "cell_type": "markdown",
   "metadata": {},
   "source": []
  },
  {
   "cell_type": "code",
   "execution_count": 1,
   "metadata": {},
   "outputs": [
    {
     "ename": "ErrorException",
     "evalue": "syntax: character literal contains multiple characters",
     "output_type": "error",
     "traceback": [
      "syntax: character literal contains multiple characters\n",
      "\n",
      "Stacktrace:\n",
      " [1] top-level scope\n",
      "   @ ~/Desktop/thesis/Green_func.ipynb:1"
     ]
    }
   ],
   "source": []
  },
  {
   "cell_type": "markdown",
   "metadata": {},
   "source": []
  }
 ],
 "metadata": {
  "kernelspec": {
   "display_name": "Julia 1.7.1",
   "language": "julia",
   "name": "julia-1.7"
  },
  "language_info": {
   "file_extension": ".jl",
   "mimetype": "application/julia",
   "name": "julia",
   "version": "1.7.1"
  },
  "orig_nbformat": 4
 },
 "nbformat": 4,
 "nbformat_minor": 2
}
